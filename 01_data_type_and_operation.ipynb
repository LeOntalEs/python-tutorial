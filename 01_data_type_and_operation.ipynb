{
 "cells": [
  {
   "cell_type": "markdown",
   "metadata": {},
   "source": [
    "<h1> Variable and Data Type </h1>\n",
    "<hr>\n",
    "<h2> Variable </h2>\n",
    "<pre>\n",
    "    ตัวแปรในภาษา python เป็นแบบ weak type คือไม่จำเป็นต้องประกาศจองพื้นที่ก่อนใช้งาน ทำให้ตัวแปรไม่มีประเภทที่ชัดเจนจึงสามารถเปลี่ยนค่าของตัวแปรเป็นประเภทอื่น ๆ ได้\n",
    "    ตัวแปรใน python จึงเป็นเพียง pointer ที่ชี้ไปยัง python object อีกที\n",
    "</pre>\n"
   ]
  },
  {
   "cell_type": "code",
   "execution_count": 1,
   "metadata": {},
   "outputs": [
    {
     "name": "stdout",
     "output_type": "stream",
     "text": [
      "value a: 1, id a: 10914368\n",
      "value b: 1, id b: 10914368\n"
     ]
    }
   ],
   "source": [
    "a = 1\n",
    "b = 1\n",
    "print(\"value a: {}, id a: {}\".format(a, id(a)))\n",
    "print(\"value b: {}, id b: {}\".format(b, id(b)))"
   ]
  },
  {
   "cell_type": "markdown",
   "metadata": {},
   "source": [
    "<h2> Basic Data Type </h2>\n",
    "<table>\n",
    "<tr>\n",
    "    <th> <center> Type </center> </th>\n",
    "    <th> <center> Sample Value </center></th>\n",
    "</tr>\n",
    "<tr>\n",
    "    <td> int (Integer) </td>\n",
    "    <td> ..., -2, -1, 0, 1, 2, ...  </td>\n",
    "</tr>\n",
    "<tr>\n",
    "    <td> float (Float) </td>\n",
    "    <td> -inf to inf  </td>\n",
    "</tr>\n",
    "<tr>\n",
    "    <td> str (String) </td>\n",
    "    <td> \"Hello\", 'Hello', '1' </td>\n",
    "</tr>\n",
    "<tr>\n",
    "    <td> bool (Boolean) </td>\n",
    "    <td> True, False  </td>\n",
    "</tr>\n",
    "<tr>\n",
    "    <td> None </td>\n",
    "    <td> None  </td>\n",
    "</tr>\n",
    "</table>\n",
    "ref: https://docs.python.org/3/library/stdtypes.html"
   ]
  },
  {
   "cell_type": "code",
   "execution_count": 2,
   "metadata": {
    "scrolled": false
   },
   "outputs": [
    {
     "name": "stdout",
     "output_type": "stream",
     "text": [
      "\n",
      " - bool - \n",
      "True False\n",
      "\n",
      " - float - \n",
      "0.23 0.23\n",
      "\n",
      " - int - \n",
      "1 -1\n",
      "\n",
      " - str - \n",
      "The quick brown fox jumps over the lazy dog\n",
      "\n",
      "\n",
      "The \"Python library\" contains several different kinds of components.\n",
      "\n",
      "    It contains data types that would normally be considered part of the “core” \n",
      "of a language, such as numbers and lists. For these types, the Python language \n",
      "core defines the form of literals and places some constraints on their semantics,\n",
      "but does not fully define the semantics. (On the other hand, the language core \n",
      "does define syntactic properties like the spelling and priorities of operators.)\n",
      "\n"
     ]
    }
   ],
   "source": [
    "print('\\n - bool - ')\n",
    "b1 = True\n",
    "b2 = False\n",
    "print(b1, b2)\n",
    "\n",
    "\n",
    "print('\\n - float - ')\n",
    "f1 = 0.23\n",
    "f2 = 23E-2\n",
    "print(f1, f2)\n",
    "\n",
    "print('\\n - int - ')\n",
    "i1 = 1\n",
    "i2 = -1\n",
    "print(i1, i2)\n",
    "\n",
    "print('\\n - str - ')\n",
    "s1 = 'The quick brown fox jumps over the lazy dog'\n",
    "s2 = \"\"\"The \"Python library\" contains several different kinds of components.\n",
    "\n",
    "    It contains data types that would normally be considered part of the “core” \n",
    "of a language, such as numbers and lists. For these types, the Python language \n",
    "core defines the form of literals and places some constraints on their semantics,\n",
    "but does not fully define the semantics. (On the other hand, the language core \n",
    "does define syntactic properties like the spelling and priorities of operators.)\n",
    "\"\"\"\n",
    "print(s1)\n",
    "print()\n",
    "print(\"\")\n",
    "print(s2)\n"
   ]
  },
  {
   "cell_type": "markdown",
   "metadata": {},
   "source": [
    "<h1>Data Collection</h1>\n",
    "<hr>\n",
    "1. Tuple\n",
    "2. List\n",
    "3. Dictionary\n",
    "4. Set\n",
    "\n",
    "ข้อมูลเพิ่มเติม \n",
    "- https://docs.python.org/3/library/stdtypes.html\n",
    "- https://docs.python.org/3/library/stdtypes.html#sequence-types-list-tuple-range\n"
   ]
  },
  {
   "cell_type": "markdown",
   "metadata": {
    "collapsed": true
   },
   "source": [
    "<h1>Tuple</h1>\n",
    "<hr>\n",
    "- เข้าถึง index ได้\n",
    "- แก้ไขค่าไม่ได้ (ใช้วิธีการสร้าง tuple ใหม่)\n",
    "- ไม่มีฟังก์ชันจัดการข้อมูล\n",
    "\n",
    "ข้อมูลเพิ่มเติม: https://docs.python.org/3/library/stdtypes.html#tuple"
   ]
  },
  {
   "cell_type": "code",
   "execution_count": 3,
   "metadata": {},
   "outputs": [
    {
     "name": "stdout",
     "output_type": "stream",
     "text": [
      "(1, 2, 3, 4)\n",
      "\n",
      "'tuple' object does not support item assignment\n",
      "\n",
      "(1, 9, 3, 4)\n"
     ]
    }
   ],
   "source": [
    "# \n",
    "# Variable Declaration\n",
    "# \n",
    "t = tuple()\n",
    "t = ()\n",
    "t = (1, 2, 3, 4)\n",
    "\n",
    "print (t)\n",
    "print()\n",
    "try: \n",
    "    t[1] = 9\n",
    "except Exception as err:\n",
    "    print(err)\n",
    "    print()\n",
    "    \n",
    "t = t[:1] + (9, ) + t[2:] #change value index 1\n",
    "print(t)"
   ]
  },
  {
   "cell_type": "markdown",
   "metadata": {},
   "source": [
    "<h1> List </h1>\n",
    "<hr>\n",
    "- เข้าถึง index ได้ <br>\n",
    "- แก้ไขค่าได้<br>\n",
    "- มีฟังชันจัดการข้อมูล<br>\n",
    "\n",
    "ข้อมูลเพิ่มเติม: https://docs.python.org/3/library/stdtypes.html#list"
   ]
  },
  {
   "cell_type": "code",
   "execution_count": 4,
   "metadata": {
    "collapsed": true
   },
   "outputs": [],
   "source": [
    "# \n",
    "# Variable Declaration\n",
    "# \n",
    "lst = list () # create Empty List\n",
    "lst = [] # create Empty List\n",
    "\n",
    "lst = [1, 2, 3, 4]  #create with initial value\n",
    "\n",
    "lst = [ [1, 2, 3, 4], [5, 6, 7, 8] ] # 2D Array-Like ( List of List )\n",
    "lst = [ 1, \"Hello\", [2, 2, 3], 5.2, None, False ] # weak type"
   ]
  },
  {
   "cell_type": "code",
   "execution_count": 5,
   "metadata": {},
   "outputs": [
    {
     "name": "stdout",
     "output_type": "stream",
     "text": [
      "[1, 2, 3, 4]\n",
      "index 0:  1\n",
      "last element:  4\n",
      "last element:  4\n",
      "\n",
      "==================================================\n",
      "\n",
      "[[1, 2, 3, 4], [5, 6, 7, 8]]\n",
      "index 0:  [1, 2, 3, 4]\n",
      "index 0, 0:  1\n",
      "last element in row 1:  4\n"
     ]
    }
   ],
   "source": [
    "lst = [1, 2, 3, 4]  \n",
    "print(lst)\n",
    "print('index 0: ', lst[0] )\n",
    "print('last element: ', lst[len(lst)-1] )\n",
    "print('last element: ', lst[-1] )\n",
    "print()\n",
    "print('='*50)\n",
    "print()\n",
    "\n",
    "lst = [ [1, 2, 3, 4], [5, 6, 7, 8] ] \n",
    "print(lst)\n",
    "print('index 0: ', lst[0])\n",
    "print('index 0, 0: ', lst[0][0])\n",
    "print('last element in row 1: ', lst[0][-1])"
   ]
  },
  {
   "cell_type": "code",
   "execution_count": 6,
   "metadata": {},
   "outputs": [
    {
     "name": "stdout",
     "output_type": "stream",
     "text": [
      "retrive first 3 element:  [1, 2, 3]\n",
      "retrive last 3 element:  [7, 8, 9]\n",
      "retrive idx 2-5:  [3, 4, 5, 6]\n",
      "retrive 2 step:  [1, 3, 5, 7, 9]\n"
     ]
    }
   ],
   "source": [
    "lst = [1,2,3,4,5,6,7,8,9]\n",
    "print('retrive first 3 element: ',lst[:3])\n",
    "print('retrive last 3 element: ',lst[-3:])\n",
    "print('retrive idx 2-5: ', lst[2:6])\n",
    "print('retrive 2 step: ', lst[::2])"
   ]
  },
  {
   "cell_type": "code",
   "execution_count": 7,
   "metadata": {},
   "outputs": [
    {
     "name": "stdout",
     "output_type": "stream",
     "text": [
      "initialize:  [1, 2, 3]\n",
      "from append 7:  [1, 2, 3, 7]\n",
      "from extend with b:  [1, 2, 3, 7, 4, 5, 6]\n",
      "\n",
      "x: 6, a: [1, 2, 3, 7, 4, 5]\n",
      "x: 1, a: [2, 3, 7, 4, 5]\n",
      "5 in [2, 3, 7, 4, 5] is True\n",
      "5 in [2, 3, 7, 4] is False\n"
     ]
    }
   ],
   "source": [
    "a = [1, 2, 3]\n",
    "b =[4, 5, 6]\n",
    "print ('initialize: ', a)\n",
    "a.append(7)\n",
    "print('from append 7: ', a)\n",
    "a.extend(b)\n",
    "print('from extend with b: ', a)\n",
    "\n",
    "print()\n",
    "x = a.pop()\n",
    "print('x: %s, a: %s'%(x, a))\n",
    "x = a.pop(0)\n",
    "print('x: %s, a: %s'%(x, a))\n",
    "\n",
    "x = 5\n",
    "print('%s in %s is %s'%(x, a, x in a))\n",
    "a.remove(x)\n",
    "print('%s in %s is %s'%(x, a, x in a))"
   ]
  },
  {
   "cell_type": "markdown",
   "metadata": {},
   "source": [
    "<h1>Dictionary</h1>\n",
    "<hr>\n",
    "- คล้าย ๆ ลิส แต่ใช้ object เป็น index แทนเลข\n",
    "- ใช้ในการ map ค่า key ไปหา value\n",
    "- มีฟังก์ชันช่วยในการจัดการ (สามารถ help(dict) ดูได้) \n",
    "\n",
    "ข้อมูลเพิ่มเติม: https://docs.python.org/3/library/stdtypes.html#dict"
   ]
  },
  {
   "cell_type": "code",
   "execution_count": 8,
   "metadata": {},
   "outputs": [
    {
     "name": "stdout",
     "output_type": "stream",
     "text": [
      "{'a': 1, 'b': 2, 'c': 3}\n",
      "{'a': 0, 'b': 2, 'd': 4, 'c': 3}\n",
      "2\n"
     ]
    }
   ],
   "source": [
    "d = dict()\n",
    "d = {}\n",
    "\n",
    "d = { 'a': 1, 'b': 2, 'c': 3 }\n",
    "print(d)\n",
    "d['d'] = 4\n",
    "d['a'] = 0\n",
    "print(d)\n",
    "\n",
    "print(d['b'])"
   ]
  },
  {
   "cell_type": "code",
   "execution_count": 9,
   "metadata": {},
   "outputs": [
    {
     "name": "stdout",
     "output_type": "stream",
     "text": [
      "True\n",
      "dict_keys(['a', 'b', 'c'])\n",
      "dict_values([1, 2, 3])\n",
      "dict_items([('a', 1), ('b', 2), ('c', 3)])\n"
     ]
    }
   ],
   "source": [
    "d = { 'a': 1, 'b': 2, 'c': 3 }\n",
    "print( 'a' in d)\n",
    "print(d.keys())\n",
    "print(d.values())\n",
    "print(d.items())"
   ]
  },
  {
   "cell_type": "markdown",
   "metadata": {},
   "source": [
    "<h1>Aliasing</h1>"
   ]
  },
  {
   "cell_type": "code",
   "execution_count": 10,
   "metadata": {},
   "outputs": [
    {
     "name": "stdout",
     "output_type": "stream",
     "text": [
      "[1, 2, 3, 4] [1, 2, 3, 4]\n",
      "[5, 2, 3, 4] [5, 2, 3, 4]\n",
      "\n",
      "==================================================\n",
      "\n",
      "[1, 2, 3, 4] [1, 2, 3, 4]\n",
      "[1, 2, 3, 4] [5, 2, 3, 4]\n"
     ]
    }
   ],
   "source": [
    "a = [1,2,3,4]\n",
    "b = a\n",
    "print (a, b)\n",
    "b[0] = 5\n",
    "print (a, b)\n",
    "\n",
    "print()\n",
    "print('='*50)\n",
    "print()\n",
    "\n",
    "a = [1,2,3,4]\n",
    "b = a[:]\n",
    "print (a, b)\n",
    "b[0] = 5\n",
    "print (a, b)"
   ]
  },
  {
   "cell_type": "code",
   "execution_count": null,
   "metadata": {
    "collapsed": true
   },
   "outputs": [],
   "source": []
  }
 ],
 "metadata": {
  "kernelspec": {
   "display_name": "Python 3",
   "language": "python",
   "name": "python3"
  },
  "language_info": {
   "codemirror_mode": {
    "name": "ipython",
    "version": 3
   },
   "file_extension": ".py",
   "mimetype": "text/x-python",
   "name": "python",
   "nbconvert_exporter": "python",
   "pygments_lexer": "ipython3",
   "version": "3.5.2"
  }
 },
 "nbformat": 4,
 "nbformat_minor": 2
}
