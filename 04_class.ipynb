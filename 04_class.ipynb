{
 "cells": [
  {
   "cell_type": "markdown",
   "metadata": {},
   "source": [
    "<h1> Class </h1>"
   ]
  },
  {
   "cell_type": "code",
   "execution_count": 13,
   "metadata": {
    "collapsed": true
   },
   "outputs": [],
   "source": [
    "class Person:\n",
    "    def __init__(self, name, *args, **kwargs):\n",
    "        self.name = name\n",
    "    \n",
    "    def walk(self):\n",
    "        print('%s walking'%self.name)\n"
   ]
  },
  {
   "cell_type": "code",
   "execution_count": 14,
   "metadata": {},
   "outputs": [
    {
     "name": "stdout",
     "output_type": "stream",
     "text": [
      "<__main__.Person object at 0x7f297c190fd0>\n",
      "Tara\n"
     ]
    }
   ],
   "source": [
    "person1 = Person('Tara')\n",
    "print( person1 )\n",
    "print( person1.name )"
   ]
  },
  {
   "cell_type": "markdown",
   "metadata": {},
   "source": [
    "<h1> Inheritance </h1>"
   ]
  },
  {
   "cell_type": "code",
   "execution_count": 17,
   "metadata": {},
   "outputs": [],
   "source": [
    "class UniversityAccount:\n",
    "    def __init__(self, ids, *args, **kwargs):\n",
    "        self.id = ids\n",
    "        \n",
    "uni = UniversityAccount('1234')\n"
   ]
  },
  {
   "cell_type": "code",
   "execution_count": 24,
   "metadata": {},
   "outputs": [
    {
     "name": "stdout",
     "output_type": "stream",
     "text": [
      "1234 Tara\n",
      "Tara walking\n",
      "Tara learning\n"
     ]
    }
   ],
   "source": [
    "class Student(Person, UniversityAccount):\n",
    "    def __init__(self, *args, **kwargs):\n",
    "        Person.__init__(self, *args, **kwargs)\n",
    "        UniversityAccount.__init__(self, *args, **kwargs)\n",
    "    \n",
    "    def learn(self):\n",
    "        print(\"%s learning\"%self.name)\n",
    "        \n",
    "stud = Student(name='Tara', ids='1234')\n",
    "print( stud.id, stud.name )\n",
    "stud.walk() \n",
    "stud.learn() "
   ]
  },
  {
   "cell_type": "markdown",
   "metadata": {},
   "source": [
    "<h1> Overwrite and Operator Overloading </h1>"
   ]
  },
  {
   "cell_type": "code",
   "execution_count": 30,
   "metadata": {},
   "outputs": [
    {
     "name": "stdout",
     "output_type": "stream",
     "text": [
      "1234: Tara\n",
      "Student always run.\n"
     ]
    }
   ],
   "source": [
    "class Student(Person, UniversityAccount):\n",
    "    def __init__(self, *args, **kwargs):\n",
    "        Person.__init__(self, *args, **kwargs)\n",
    "        UniversityAccount.__init__(self, *args, **kwargs)\n",
    "    \n",
    "    #\n",
    "    # operator overloading\n",
    "    #\n",
    "    def __str__(self):\n",
    "        return \"%s: %s\"%(self.id, self.name)\n",
    "    \n",
    "    #     \n",
    "    # Method overriding\n",
    "    #\n",
    "    def walk(self):\n",
    "        print('Student always run.')\n",
    "    \n",
    "    def learn(self):\n",
    "        print(\"%s learning\"%self.name)\n",
    "    \n",
    "        \n",
    "stud = Student(name='Tara', ids='1234')\n",
    "print(stud) \n",
    "stud.walk()"
   ]
  },
  {
   "cell_type": "code",
   "execution_count": null,
   "metadata": {
    "collapsed": true
   },
   "outputs": [],
   "source": []
  }
 ],
 "metadata": {
  "kernelspec": {
   "display_name": "Python 3",
   "language": "python",
   "name": "python3"
  },
  "language_info": {
   "codemirror_mode": {
    "name": "ipython",
    "version": 3
   },
   "file_extension": ".py",
   "mimetype": "text/x-python",
   "name": "python",
   "nbconvert_exporter": "python",
   "pygments_lexer": "ipython3",
   "version": "3.5.2"
  }
 },
 "nbformat": 4,
 "nbformat_minor": 2
}
