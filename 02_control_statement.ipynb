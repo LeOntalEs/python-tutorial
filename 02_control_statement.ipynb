{
 "cells": [
  {
   "cell_type": "markdown",
   "metadata": {},
   "source": [
    "# Control Statement\n",
    "\n",
    "* *if* statement \n",
    "* *for* each \n",
    "* *while* loop"
   ]
  },
  {
   "cell_type": "markdown",
   "metadata": {},
   "source": [
    "# *if* statement"
   ]
  },
  {
   "cell_type": "code",
   "execution_count": 1,
   "metadata": {},
   "outputs": [
    {
     "name": "stdout",
     "output_type": "stream",
     "text": [
      "10 is Even\n"
     ]
    }
   ],
   "source": [
    "x = 10\n",
    "if x %2 == 0:\n",
    "    print( '%d is Even'%x)\n",
    "else:\n",
    "    print( '%d is Odd'%x)"
   ]
  },
  {
   "cell_type": "code",
   "execution_count": 2,
   "metadata": {},
   "outputs": [
    {
     "name": "stdout",
     "output_type": "stream",
     "text": [
      "9 is positive.\n"
     ]
    }
   ],
   "source": [
    "x = 9\n",
    "if x < 0:\n",
    "    print( '{} is negative.'.format(x))\n",
    "elif x > 0:\n",
    "    print( '{} is positive.'.format(x))\n",
    "else:\n",
    "    print( '{} is zero.'.format(x))"
   ]
  },
  {
   "cell_type": "code",
   "execution_count": 3,
   "metadata": {},
   "outputs": [
    {
     "name": "stdout",
     "output_type": "stream",
     "text": [
      "[0, 1, 2, 3, 4] is FULL List\n",
      "[0, 1, 2, 3, 4] is FULL List\n"
     ]
    }
   ],
   "source": [
    "lst = list(range(5))\n",
    "if len(lst) != 0:\n",
    "    print('%s is FULL List'%lst )\n",
    "else:\n",
    "     print('%s is Empty List'%lst )\n",
    "\n",
    "if lst:\n",
    "    print('%s is FULL List'%lst )\n",
    "else:\n",
    "     print('%s is Empty List'%lst )"
   ]
  },
  {
   "cell_type": "markdown",
   "metadata": {},
   "source": [
    "# *for* each"
   ]
  },
  {
   "cell_type": "code",
   "execution_count": 4,
   "metadata": {},
   "outputs": [
    {
     "name": "stdout",
     "output_type": "stream",
     "text": [
      "0 1 2 3 4 "
     ]
    }
   ],
   "source": [
    "for i in range(5):\n",
    "     print(i, end=' ')"
   ]
  },
  {
   "cell_type": "code",
   "execution_count": 5,
   "metadata": {},
   "outputs": [
    {
     "name": "stdout",
     "output_type": "stream",
     "text": [
      "0 a 1 b "
     ]
    }
   ],
   "source": [
    "lst = [ 0, 'a', 1, 'b' ]\n",
    "for x  in lst:\n",
    "    print(x ,end=' ')"
   ]
  },
  {
   "cell_type": "code",
   "execution_count": 6,
   "metadata": {},
   "outputs": [
    {
     "name": "stdout",
     "output_type": "stream",
     "text": [
      "0: 0,  1: a,  2: 1,  3: b,  "
     ]
    }
   ],
   "source": [
    "for i, x  in enumerate(lst):\n",
    "    print(\"%s: %s, \"%(i,x) ,end=' ')"
   ]
  },
  {
   "cell_type": "code",
   "execution_count": 7,
   "metadata": {},
   "outputs": [
    {
     "name": "stdout",
     "output_type": "stream",
     "text": [
      "blue\t#0000FF\n",
      "red\t#FF0000\n",
      "green\t#00FF00\n",
      "\n",
      "========================================\n",
      "\n",
      "blue\t#0000FF\n",
      "red\t#FF0000\n",
      "green\t#00FF00\n"
     ]
    }
   ],
   "source": [
    "d = {'red':'#FF0000', 'green':'#00FF00', 'blue':'#0000FF'}\n",
    "for k in d:\n",
    "    print(\"%s\\t%s\"%(k, d[k]))\n",
    "print()\n",
    "print('='*40)\n",
    "print()\n",
    "\n",
    "for k, v in d.items():\n",
    "    print(\"%s\\t%s\"%(k, v))"
   ]
  },
  {
   "cell_type": "markdown",
   "metadata": {},
   "source": [
    "# *while* loop"
   ]
  },
  {
   "cell_type": "code",
   "execution_count": 10,
   "metadata": {},
   "outputs": [
    {
     "name": "stdout",
     "output_type": "stream",
     "text": [
      "print 1 to 10\n",
      "1 2 3 4 5 6 7 8 9 10 "
     ]
    }
   ],
   "source": [
    "print('print 1 to 10')\n",
    "i = 0\n",
    "while i < 10:\n",
    "    i += 1\n",
    "    print(i, end = ' ')"
   ]
  },
  {
   "cell_type": "code",
   "execution_count": 9,
   "metadata": {},
   "outputs": [
    {
     "name": "stdout",
     "output_type": "stream",
     "text": [
      "print only odd number\n",
      "1 3 5 7 9 "
     ]
    }
   ],
   "source": [
    "print('print only odd number')\n",
    "i = 0\n",
    "while i < 10:\n",
    "    i += 1\n",
    "    if i%2 != 0:\n",
    "        print (i, end = ' ')"
   ]
  },
  {
   "cell_type": "code",
   "execution_count": 11,
   "metadata": {},
   "outputs": [
    {
     "name": "stdout",
     "output_type": "stream",
     "text": [
      "Stop when i is 5\n",
      "1 2 3 4 "
     ]
    }
   ],
   "source": [
    "print('Stop when i is 5')\n",
    "i = 0\n",
    "while i < 10:\n",
    "    i += 1\n",
    "    if i == 5: break\n",
    "    print (i, end = ' ')"
   ]
  },
  {
   "cell_type": "code",
   "execution_count": 12,
   "metadata": {},
   "outputs": [
    {
     "name": "stdout",
     "output_type": "stream",
     "text": [
      "skip print 5\n",
      "1 2 3 4 6 7 8 9 10 "
     ]
    }
   ],
   "source": [
    "print('skip print 5')\n",
    "i = 0\n",
    "while i < 10:\n",
    "    i += 1\n",
    "    if i == 5: continue\n",
    "    print (i, end = ' ')"
   ]
  },
  {
   "cell_type": "code",
   "execution_count": null,
   "metadata": {
    "collapsed": true
   },
   "outputs": [],
   "source": []
  }
 ],
 "metadata": {
  "kernelspec": {
   "display_name": "Python [conda env:tensorflow_c]",
   "language": "python",
   "name": "conda-env-tensorflow_c-py"
  },
  "language_info": {
   "codemirror_mode": {
    "name": "ipython",
    "version": 3
   },
   "file_extension": ".py",
   "mimetype": "text/x-python",
   "name": "python",
   "nbconvert_exporter": "python",
   "pygments_lexer": "ipython3",
   "version": "3.6.2"
  }
 },
 "nbformat": 4,
 "nbformat_minor": 1
}
