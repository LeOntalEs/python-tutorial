{
 "cells": [
  {
   "cell_type": "markdown",
   "metadata": {},
   "source": [
    "<h1> Control Statement </h1>\n",
    "\n",
    "<ol>\n",
    " <li> IF statement </li>\n",
    " <li> For each </li>\n",
    " <li> while loop </li>\n",
    "</ol>"
   ]
  },
  {
   "cell_type": "markdown",
   "metadata": {},
   "source": [
    "<h1> IF statement </h1>"
   ]
  },
  {
   "cell_type": "code",
   "execution_count": 1,
   "metadata": {},
   "outputs": [
    {
     "name": "stdout",
     "output_type": "stream",
     "text": [
      "10 is Even\n"
     ]
    }
   ],
   "source": [
    "x = 10\n",
    "if x %2 == 0:\n",
    "    print( '%d is Even'%x)\n",
    "else:\n",
    "    print( '%d is Odd'%x)"
   ]
  },
  {
   "cell_type": "code",
   "execution_count": 2,
   "metadata": {},
   "outputs": [
    {
     "name": "stdout",
     "output_type": "stream",
     "text": [
      "9 is positive.\n"
     ]
    }
   ],
   "source": [
    "x = 9\n",
    "if x < 0:\n",
    "    print( '{} is negative.'.format(x))\n",
    "elif x > 0:\n",
    "    print( '{} is positive.'.format(x))\n",
    "else:\n",
    "    print( '{} is zero.'.format(x))"
   ]
  },
  {
   "cell_type": "code",
   "execution_count": 3,
   "metadata": {},
   "outputs": [
    {
     "name": "stdout",
     "output_type": "stream",
     "text": [
      "[0, 1, 2, 3, 4] is FULL List\n",
      "[0, 1, 2, 3, 4] is FULL List\n"
     ]
    }
   ],
   "source": [
    "lst = list(range(5))\n",
    "if len(lst) != 0:\n",
    "    print('%s is FULL List'%lst )\n",
    "else:\n",
    "     print('%s is Empty List'%lst )\n",
    "\n",
    "if lst:\n",
    "    print('%s is FULL List'%lst )\n",
    "else:\n",
    "     print('%s is Empty List'%lst )"
   ]
  },
  {
   "cell_type": "markdown",
   "metadata": {},
   "source": [
    "<h1> For Each </h1>"
   ]
  },
  {
   "cell_type": "code",
   "execution_count": 4,
   "metadata": {},
   "outputs": [
    {
     "name": "stdout",
     "output_type": "stream",
     "text": [
      "0 1 2 3 4 "
     ]
    }
   ],
   "source": [
    "for i in range(5):\n",
    "     print(i, end=' ')"
   ]
  },
  {
   "cell_type": "code",
   "execution_count": 5,
   "metadata": {},
   "outputs": [
    {
     "name": "stdout",
     "output_type": "stream",
     "text": [
      "0 a 1 b "
     ]
    }
   ],
   "source": [
    "lst = [ 0, 'a', 1, 'b' ]\n",
    "for x  in lst:\n",
    "    print(x ,end=' ')"
   ]
  },
  {
   "cell_type": "code",
   "execution_count": 6,
   "metadata": {},
   "outputs": [
    {
     "name": "stdout",
     "output_type": "stream",
     "text": [
      "0: 0,  1: a,  2: 1,  3: b,  "
     ]
    }
   ],
   "source": [
    "for i, x  in enumerate(lst):\n",
    "    print(\"%s: %s, \"%(i,x) ,end=' ')"
   ]
  },
  {
   "cell_type": "code",
   "execution_count": 7,
   "metadata": {},
   "outputs": [
    {
     "name": "stdout",
     "output_type": "stream",
     "text": [
      "blue\t#0000FF\n",
      "red\t#FF0000\n",
      "green\t#00FF00\n",
      "\n",
      "========================================\n",
      "\n",
      "blue\t#0000FF\n",
      "red\t#FF0000\n",
      "green\t#00FF00\n"
     ]
    }
   ],
   "source": [
    "d = {'red':'#FF0000', 'green':'#00FF00', 'blue':'#0000FF'}\n",
    "for k in d:\n",
    "    print(\"%s\\t%s\"%(k, d[k]))\n",
    "print()\n",
    "print('='*40)\n",
    "print()\n",
    "\n",
    "for k, v in d.items():\n",
    "    print(\"%s\\t%s\"%(k, v))"
   ]
  },
  {
   "cell_type": "markdown",
   "metadata": {},
   "source": [
    "<h1> While Loop </h1>"
   ]
  },
  {
   "cell_type": "code",
   "execution_count": 8,
   "metadata": {},
   "outputs": [
    {
     "name": "stdout",
     "output_type": "stream",
     "text": [
      "1 2 3 4 5 6 7 8 9 10 \n",
      "\n",
      "print only odd numbr\n",
      "1 3 5 7 9 \n",
      "\n",
      "Stop when i is 5\n",
      "1 2 3 4 \n",
      "\n",
      "skip print 5\n",
      "1 2 3 4 6 7 8 9 10 \n"
     ]
    }
   ],
   "source": [
    "i = 0\n",
    "while i < 10:\n",
    "    i += 1\n",
    "    print (i, end = ' ')\n",
    "print()\n",
    "\n",
    "print()\n",
    "print('print only odd numbr')\n",
    "i = 0\n",
    "while i < 10:\n",
    "    i += 1\n",
    "    if i%2 != 0:\n",
    "        print (i, end = ' ')\n",
    "print()\n",
    "\n",
    "\n",
    "print()\n",
    "print('Stop when i is 5')\n",
    "i = 0\n",
    "while i < 10:\n",
    "    i += 1\n",
    "    if i == 5: break\n",
    "    print (i, end = ' ')\n",
    "print()\n",
    "\n",
    "print()\n",
    "print('skip print 5')\n",
    "i = 0\n",
    "while i < 10:\n",
    "    i += 1\n",
    "    if i == 5: continue\n",
    "    print (i, end = ' ')\n",
    "print()"
   ]
  },
  {
   "cell_type": "code",
   "execution_count": null,
   "metadata": {
    "collapsed": true
   },
   "outputs": [],
   "source": []
  }
 ],
 "metadata": {
  "kernelspec": {
   "display_name": "Python 3",
   "language": "python",
   "name": "python3"
  },
  "language_info": {
   "codemirror_mode": {
    "name": "ipython",
    "version": 3
   },
   "file_extension": ".py",
   "mimetype": "text/x-python",
   "name": "python",
   "nbconvert_exporter": "python",
   "pygments_lexer": "ipython3",
   "version": "3.5.2"
  }
 },
 "nbformat": 4,
 "nbformat_minor": 1
}
