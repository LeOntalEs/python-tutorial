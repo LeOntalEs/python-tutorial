{
 "cells": [
  {
   "cell_type": "markdown",
   "metadata": {},
   "source": [
    "<h1> User Define Function </h1>"
   ]
  },
  {
   "cell_type": "code",
   "execution_count": 1,
   "metadata": {},
   "outputs": [
    {
     "name": "stdout",
     "output_type": "stream",
     "text": [
      "4.5\n"
     ]
    }
   ],
   "source": [
    "def find_average(lst):\n",
    "    total_sum = 0.0\n",
    "    for x in lst:\n",
    "        total_sum += x\n",
    "    return total_sum/len(lst)\n",
    "\n",
    "a = range(0, 10)\n",
    "print( find_average(a) )\n"
   ]
  },
  {
   "cell_type": "code",
   "execution_count": 2,
   "metadata": {},
   "outputs": [
    {
     "name": "stdout",
     "output_type": "stream",
     "text": [
      "LT: [-5, -4, -3, -2, -1]\tGE: [0, 1, 2, 3, 4]\n",
      "LT: [-5, -4, -3, -2, -1, 0]\tGE: [1, 2, 3, 4]\n"
     ]
    }
   ],
   "source": [
    "def thresholding(lst, threshold=0):\n",
    "    lt = list()\n",
    "    ge = list()\n",
    "    for x in lst:\n",
    "        if x < threshold:\n",
    "            lt.append(x)\n",
    "        else:\n",
    "            ge.append(x)\n",
    "    return lt, ge\n",
    "\n",
    "a = range(-5, 5)\n",
    "print( 'LT: %s\\tGE: %s'%( thresholding(a) ))\n",
    "print( 'LT: %s\\tGE: %s'%( thresholding(a, 1) ))"
   ]
  },
  {
   "cell_type": "code",
   "execution_count": 3,
   "metadata": {},
   "outputs": [
    {
     "name": "stdout",
     "output_type": "stream",
     "text": [
      "4.5\n"
     ]
    }
   ],
   "source": [
    "def find_average_with_builtin(lst):\n",
    "    return sum(lst)/len(lst)\n",
    "\n",
    "a = range(0, 10)\n",
    "print(find_average_with_builtin(a))"
   ]
  },
  {
   "cell_type": "markdown",
   "metadata": {},
   "source": [
    "<h1>Built-in Functions</h1>\n",
    "\n",
    "<table border=\"1\" class=\"docutils\">\n",
    "<colgroup>\n",
    "<col width=\"21%\">\n",
    "<col width=\"19%\">\n",
    "<col width=\"20%\">\n",
    "<col width=\"18%\">\n",
    "<col width=\"22%\">\n",
    "</colgroup>\n",
    "\n",
    "<tbody valign=\"top\">\n",
    "<tr class=\"row-even\"><td><a class=\"reference internal\" title=\"abs\"><code class=\"xref py py-func docutils literal\"><span class=\"pre\">abs()</span></code></a></td>\n",
    "<td><a class=\"reference internal\" href=\"#func-dict\"><code class=\"docutils literal\"><span class=\"pre\">dict()</span></code></a></td>\n",
    "<td><a class=\"reference internal\" title=\"help\"><code class=\"xref py py-func docutils literal\"><span class=\"pre\">help()</span></code></a></td>\n",
    "<td><a class=\"reference internal\" title=\"min\"><code class=\"xref py py-func docutils literal\"><span class=\"pre\">min()</span></code></a></td>\n",
    "<td><a class=\"reference internal\" title=\"setattr\"><code class=\"xref py py-func docutils literal\"><span class=\"pre\">setattr()</span></code></a></td>\n",
    "</tr>\n",
    "<tr class=\"row-odd\"><td><a class=\"reference internal\" title=\"all\"><code class=\"xref py py-func docutils literal\"><span class=\"pre\">all()</span></code></a></td>\n",
    "<td><a class=\"reference internal\" title=\"dir\"><code class=\"xref py py-func docutils literal\"><span class=\"pre\">dir()</span></code></a></td>\n",
    "<td><a class=\"reference internal\" title=\"hex\"><code class=\"xref py py-func docutils literal\"><span class=\"pre\">hex()</span></code></a></td>\n",
    "<td><a class=\"reference internal\" title=\"next\"><code class=\"xref py py-func docutils literal\"><span class=\"pre\">next()</span></code></a></td>\n",
    "<td><a class=\"reference internal\" title=\"slice\"><code class=\"xref py py-func docutils literal\"><span class=\"pre\">slice()</span></code></a></td>\n",
    "</tr>\n",
    "<tr class=\"row-even\"><td><a class=\"reference internal\" title=\"any\"><code class=\"xref py py-func docutils literal\"><span class=\"pre\">any()</span></code></a></td>\n",
    "<td><a class=\"reference internal\" title=\"divmod\"><code class=\"xref py py-func docutils literal\"><span class=\"pre\">divmod()</span></code></a></td>\n",
    "<td><a class=\"reference internal\" title=\"id\"><code class=\"xref py py-func docutils literal\"><span class=\"pre\">id()</span></code></a></td>\n",
    "<td><a class=\"reference internal\" title=\"object\"><code class=\"xref py py-func docutils literal\"><span class=\"pre\">object()</span></code></a></td>\n",
    "<td><a class=\"reference internal\" title=\"sorted\"><code class=\"xref py py-func docutils literal\"><span class=\"pre\">sorted()</span></code></a></td>\n",
    "</tr>\n",
    "<tr class=\"row-odd\"><td><a class=\"reference internal\" title=\"ascii\"><code class=\"xref py py-func docutils literal\"><span class=\"pre\">ascii()</span></code></a></td>\n",
    "<td><a class=\"reference internal\" title=\"enumerate\"><code class=\"xref py py-func docutils literal\"><span class=\"pre\">enumerate()</span></code></a></td>\n",
    "<td><a class=\"reference internal\" title=\"input\"><code class=\"xref py py-func docutils literal\"><span class=\"pre\">input()</span></code></a></td>\n",
    "<td><a class=\"reference internal\" title=\"oct\"><code class=\"xref py py-func docutils literal\"><span class=\"pre\">oct()</span></code></a></td>\n",
    "<td><a class=\"reference internal\" title=\"staticmethod\"><code class=\"xref py py-func docutils literal\"><span class=\"pre\">staticmethod()</span></code></a></td>\n",
    "</tr>\n",
    "<tr class=\"row-even\"><td><a class=\"reference internal\" title=\"bin\"><code class=\"xref py py-func docutils literal\"><span class=\"pre\">bin()</span></code></a></td>\n",
    "<td><a class=\"reference internal\" title=\"eval\"><code class=\"xref py py-func docutils literal\"><span class=\"pre\">eval()</span></code></a></td>\n",
    "<td><a class=\"reference internal\" title=\"int\"><code class=\"xref py py-func docutils literal\"><span class=\"pre\">int()</span></code></a></td>\n",
    "<td><a class=\"reference internal\" title=\"open\"><code class=\"xref py py-func docutils literal\"><span class=\"pre\">open()</span></code></a></td>\n",
    "<td><a class=\"reference internal\" href=\"#func-str\"><code class=\"docutils literal\"><span class=\"pre\">str()</span></code></a></td>\n",
    "</tr>\n",
    "<tr class=\"row-odd\"><td><a class=\"reference internal\" title=\"bool\"><code class=\"xref py py-func docutils literal\"><span class=\"pre\">bool()</span></code></a></td>\n",
    "<td><a class=\"reference internal\" title=\"exec\"><code class=\"xref py py-func docutils literal\"><span class=\"pre\">exec()</span></code></a></td>\n",
    "<td><a class=\"reference internal\" title=\"isinstance\"><code class=\"xref py py-func docutils literal\"><span class=\"pre\">isinstance()</span></code></a></td>\n",
    "<td><a class=\"reference internal\" title=\"ord\"><code class=\"xref py py-func docutils literal\"><span class=\"pre\">ord()</span></code></a></td>\n",
    "<td><a class=\"reference internal\" title=\"sum\"><code class=\"xref py py-func docutils literal\"><span class=\"pre\">sum()</span></code></a></td>\n",
    "</tr>\n",
    "<tr class=\"row-even\"><td><a class=\"reference internal\" href=\"#func-bytearray\"><code class=\"docutils literal\"><span class=\"pre\">bytearray()</span></code></a></td>\n",
    "<td><a class=\"reference internal\" title=\"filter\"><code class=\"xref py py-func docutils literal\"><span class=\"pre\">filter()</span></code></a></td>\n",
    "<td><a class=\"reference internal\" title=\"issubclass\"><code class=\"xref py py-func docutils literal\"><span class=\"pre\">issubclass()</span></code></a></td>\n",
    "<td><a class=\"reference internal\" title=\"pow\"><code class=\"xref py py-func docutils literal\"><span class=\"pre\">pow()</span></code></a></td>\n",
    "<td><a class=\"reference internal\" title=\"super\"><code class=\"xref py py-func docutils literal\"><span class=\"pre\">super()</span></code></a></td>\n",
    "</tr>\n",
    "<tr class=\"row-odd\"><td><a class=\"reference internal\" href=\"#func-bytes\"><code class=\"docutils literal\"><span class=\"pre\">bytes()</span></code></a></td>\n",
    "<td><a class=\"reference internal\" title=\"float\"><code class=\"xref py py-func docutils literal\"><span class=\"pre\">float()</span></code></a></td>\n",
    "<td><a class=\"reference internal\" title=\"iter\"><code class=\"xref py py-func docutils literal\"><span class=\"pre\">iter()</span></code></a></td>\n",
    "<td><a class=\"reference internal\" title=\"print\"><code class=\"xref py py-func docutils literal\"><span class=\"pre\">print()</span></code></a></td>\n",
    "<td><a class=\"reference internal\" href=\"#func-tuple\"><code class=\"docutils literal\"><span class=\"pre\">tuple()</span></code></a></td>\n",
    "</tr>\n",
    "<tr class=\"row-even\"><td><a class=\"reference internal\" title=\"callable\"><code class=\"xref py py-func docutils literal\"><span class=\"pre\">callable()</span></code></a></td>\n",
    "<td><a class=\"reference internal\" title=\"format\"><code class=\"xref py py-func docutils literal\"><span class=\"pre\">format()</span></code></a></td>\n",
    "<td><a class=\"reference internal\" title=\"len\"><code class=\"xref py py-func docutils literal\"><span class=\"pre\">len()</span></code></a></td>\n",
    "<td><a class=\"reference internal\" title=\"property\"><code class=\"xref py py-func docutils literal\"><span class=\"pre\">property()</span></code></a></td>\n",
    "<td><a class=\"reference internal\" title=\"type\"><code class=\"xref py py-func docutils literal\"><span class=\"pre\">type()</span></code></a></td>\n",
    "</tr>\n",
    "<tr class=\"row-odd\"><td><a class=\"reference internal\" title=\"chr\"><code class=\"xref py py-func docutils literal\"><span class=\"pre\">chr()</span></code></a></td>\n",
    "<td><a class=\"reference internal\" href=\"#func-frozenset\"><code class=\"docutils literal\"><span class=\"pre\">frozenset()</span></code></a></td>\n",
    "<td><a class=\"reference internal\" href=\"#func-list\"><code class=\"docutils literal\"><span class=\"pre\">list()</span></code></a></td>\n",
    "<td><a class=\"reference internal\" href=\"#func-range\"><code class=\"docutils literal\"><span class=\"pre\">range()</span></code></a></td>\n",
    "<td><a class=\"reference internal\" title=\"vars\"><code class=\"xref py py-func docutils literal\"><span class=\"pre\">vars()</span></code></a></td>\n",
    "</tr>\n",
    "<tr class=\"row-even\"><td><a class=\"reference internal\" title=\"classmethod\"><code class=\"xref py py-func docutils literal\"><span class=\"pre\">classmethod()</span></code></a></td>\n",
    "<td><a class=\"reference internal\" title=\"getattr\"><code class=\"xref py py-func docutils literal\"><span class=\"pre\">getattr()</span></code></a></td>\n",
    "<td><a class=\"reference internal\" title=\"locals\"><code class=\"xref py py-func docutils literal\"><span class=\"pre\">locals()</span></code></a></td>\n",
    "<td><a class=\"reference internal\" title=\"repr\"><code class=\"xref py py-func docutils literal\"><span class=\"pre\">repr()</span></code></a></td>\n",
    "<td><a class=\"reference internal\" title=\"zip\"><code class=\"xref py py-func docutils literal\"><span class=\"pre\">zip()</span></code></a></td>\n",
    "</tr>\n",
    "<tr class=\"row-odd\"><td><a class=\"reference internal\" title=\"compile\"><code class=\"xref py py-func docutils literal\"><span class=\"pre\">compile()</span></code></a></td>\n",
    "<td><a class=\"reference internal\" title=\"globals\"><code class=\"xref py py-func docutils literal\"><span class=\"pre\">globals()</span></code></a></td>\n",
    "<td><a class=\"reference internal\" title=\"map\"><code class=\"xref py py-func docutils literal\"><span class=\"pre\">map()</span></code></a></td>\n",
    "<td><a class=\"reference internal\" title=\"reversed\"><code class=\"xref py py-func docutils literal\"><span class=\"pre\">reversed()</span></code></a></td>\n",
    "<td><a class=\"reference internal\" title=\"__import__\"><code class=\"xref py py-func docutils literal\"><span class=\"pre\">__import__()</span></code></a></td>\n",
    "</tr>\n",
    "<tr class=\"row-even\"><td><a class=\"reference internal\" title=\"complex\"><code class=\"xref py py-func docutils literal\"><span class=\"pre\">complex()</span></code></a></td>\n",
    "<td><a class=\"reference internal\" title=\"hasattr\"><code class=\"xref py py-func docutils literal\"><span class=\"pre\">hasattr()</span></code></a></td>\n",
    "<td><a class=\"reference internal\" title=\"max\"><code class=\"xref py py-func docutils literal\"><span class=\"pre\">max()</span></code></a></td>\n",
    "<td><a class=\"reference internal\" title=\"round\"><code class=\"xref py py-func docutils literal\"><span class=\"pre\">round()</span></code></a></td>\n",
    "<td>&nbsp;</td>\n",
    "</tr>\n",
    "<tr class=\"row-odd\"><td><a class=\"reference internal\" title=\"delattr\"><code class=\"xref py py-func docutils literal\"><span class=\"pre\">delattr()</span></code></a></td>\n",
    "<td><a class=\"reference internal\" title=\"hash\"><code class=\"xref py py-func docutils literal\"><span class=\"pre\">hash()</span></code></a></td>\n",
    "<td><a class=\"reference internal\" href=\"#func-memoryview\"><code class=\"docutils literal\"><span class=\"pre\">memoryview()</span></code></a></td>\n",
    "<td><a class=\"reference internal\" href=\"#func-set\"><code class=\"docutils literal\"><span class=\"pre\">set()</span></code></a></td>\n",
    "<td>&nbsp;</td>\n",
    "</tr>\n",
    "</tbody>\n",
    "</table>\n",
    "\n",
    "ข้อมูลเพิ่มเติม:https://docs.python.org/3/library/functions.html"
   ]
  },
  {
   "cell_type": "code",
   "execution_count": 4,
   "metadata": {},
   "outputs": [
    {
     "name": "stdout",
     "output_type": "stream",
     "text": [
      "Help on built-in function sum in module builtins:\n",
      "\n",
      "sum(iterable, start=0, /)\n",
      "    Return the sum of a 'start' value (default: 0) plus an iterable of numbers\n",
      "    \n",
      "    When the iterable is empty, return the start value.\n",
      "    This function is intended specifically for use with numeric values and may\n",
      "    reject non-numeric types.\n",
      "\n"
     ]
    }
   ],
   "source": [
    "help(sum)"
   ]
  },
  {
   "cell_type": "code",
   "execution_count": 5,
   "metadata": {},
   "outputs": [
    {
     "name": "stdout",
     "output_type": "stream",
     "text": [
      "[] <class 'list'>\n",
      "{} <class 'dict'>\n",
      "set() <class 'set'>\n"
     ]
    }
   ],
   "source": [
    "l = list()\n",
    "d = dict()\n",
    "s = set()\n",
    "\n",
    "print (l, type(l) )\n",
    "print(d, type(d))\n",
    "print(s, type(s))"
   ]
  },
  {
   "cell_type": "code",
   "execution_count": 6,
   "metadata": {},
   "outputs": [
    {
     "name": "stdout",
     "output_type": "stream",
     "text": [
      "[0, 1, 2, 3, 4, 5, 6, 7, 8, 9] <class 'list'>\n"
     ]
    }
   ],
   "source": [
    "lst =list(range(10))\n",
    "print(lst , type(lst))"
   ]
  },
  {
   "cell_type": "code",
   "execution_count": 7,
   "metadata": {},
   "outputs": [
    {
     "name": "stdout",
     "output_type": "stream",
     "text": [
      "min:  0\n",
      "max:  9\n",
      "sum:  45\n",
      "length:  10\n"
     ]
    }
   ],
   "source": [
    "print( 'min: ', min(lst) )\n",
    "print( 'max: ', max(lst) )\n",
    "print( 'sum: ', sum(lst) )\n",
    "print( 'length: ', len(lst) )"
   ]
  },
  {
   "cell_type": "code",
   "execution_count": 8,
   "metadata": {},
   "outputs": [
    {
     "name": "stdout",
     "output_type": "stream",
     "text": [
      "[0, 1, 2, 3, 4, 5, 6, 7, 8, 9]\n",
      "[9, 8, 7, 6, 5, 4, 3, 2, 1, 0]\n"
     ]
    }
   ],
   "source": [
    "tmp = list( range(10) )\n",
    "print( tmp )\n",
    "tmp = sorted(tmp, reverse=True)\n",
    "print( tmp )"
   ]
  },
  {
   "cell_type": "markdown",
   "metadata": {},
   "source": [
    "<hr>"
   ]
  },
  {
   "cell_type": "markdown",
   "metadata": {},
   "source": [
    "<h1> Module </h1>\n",
    "<pre>\n",
    "คำสั่งในการลง Module เพิ่มเติม\n",
    " - pip install $moduleNmae\n",
    "ในกรณีที่ลงด้วย Conda อาจจะใช้คำสั่ง\n",
    " - conda install $moduleName\n",
    "</pre>"
   ]
  },
  {
   "cell_type": "code",
   "execution_count": 9,
   "metadata": {
    "collapsed": true
   },
   "outputs": [],
   "source": [
    "# Standard\n",
    "import random\n",
    "from time import time\n",
    "from copy import deepcopy\n",
    "from math import *\n",
    "\n",
    "# Contribute\n",
    "import matplotlib\n",
    "import numpy as np \n"
   ]
  },
  {
   "cell_type": "markdown",
   "metadata": {},
   "source": [
    "<h1> Random Module </h1>"
   ]
  },
  {
   "cell_type": "code",
   "execution_count": 10,
   "metadata": {},
   "outputs": [
    {
     "name": "stdout",
     "output_type": "stream",
     "text": [
      "0.3189941284916402\n",
      "\n",
      "[10, 2, 10, 7, 5, 4, 0, 0, 6, 9]\n",
      "\n",
      "[0.18759941332455177, 4.563850686062077, 3.858701721441473, 7.0164366168354295, 3.071211644235199]\n"
     ]
    }
   ],
   "source": [
    "x = random.random()\n",
    "print( x )\n",
    "\n",
    "print()\n",
    "lst = [ random.randint (0, 10) for i in range(10) ]\n",
    "print(lst)\n",
    "\n",
    "print()\n",
    "lst = [ random.uniform (0, 10) for i in range(5) ]\n",
    "print(lst)"
   ]
  },
  {
   "cell_type": "markdown",
   "metadata": {},
   "source": [
    "<h2> Pseudo Random </h2>"
   ]
  },
  {
   "cell_type": "code",
   "execution_count": 11,
   "metadata": {},
   "outputs": [
    {
     "name": "stdout",
     "output_type": "stream",
     "text": [
      "0.6229016948897019\n",
      "0.7417869892607294\n",
      "========================================\n",
      "0.6229016948897019\n",
      "0.7417869892607294\n"
     ]
    }
   ],
   "source": [
    "random.seed(5)\n",
    "print( random.random() )\n",
    "print( random.random() )\n",
    "print( '='*40 )\n",
    "random.seed(5)\n",
    "print( random.random() )\n",
    "print( random.random() )"
   ]
  },
  {
   "cell_type": "markdown",
   "metadata": {},
   "source": [
    "<h2> OS Module </h2>"
   ]
  },
  {
   "cell_type": "code",
   "execution_count": 12,
   "metadata": {},
   "outputs": [
    {
     "name": "stdout",
     "output_type": "stream",
     "text": [
      "/home/leontales/Desktop/python-tutor\n",
      "/home/leontales/Desktop/python-tutor/dataset.csv\n",
      "\n",
      "Is \"dataset.csv\" exist?: False\n"
     ]
    }
   ],
   "source": [
    "import os\n",
    "currentdir = os.getcwd()\n",
    "filepath = os.path.join(currentdir, 'dataset.csv')\n",
    "print( currentdir )\n",
    "print( filepath )\n",
    "print()\n",
    "print( 'Is \"dataset.csv\" exist?:', os.path.exists(filepath) )"
   ]
  },
  {
   "cell_type": "markdown",
   "metadata": {},
   "source": [
    "<h1> Other Module </h1>\n"
   ]
  },
  {
   "cell_type": "code",
   "execution_count": 13,
   "metadata": {},
   "outputs": [
    {
     "name": "stdout",
     "output_type": "stream",
     "text": [
      "[0, 1, 2, 3, 4, 5, 6, 7, 8, 9]\n",
      "[0, 1, 2, 3, 4, 5, 6, 7, 8, 10] [0, 1, 2, 3, 4, 5, 6, 7, 8, 10]\n",
      "[0, 1, 2, 3, 4, 5, 6, 7, 8, 10] [0, 1, 2, 3, 4, 5, 6, 7, 8, 20]\n",
      "run in: 0.0017838478 second\n"
     ]
    }
   ],
   "source": [
    "from time import time\n",
    "from copy import deepcopy\n",
    "\n",
    "start = time()\n",
    "lst = list(range(10))\n",
    "a = lst\n",
    "b = deepcopy(lst)\n",
    "\n",
    "print ( lst )\n",
    "a[-1] = 10\n",
    "print (lst, a)\n",
    "b[-1] = 20\n",
    "print( lst, b )\n",
    "\n",
    "totaltime = time() - start\n",
    "print( 'run in: %.10f second'%(totaltime) )"
   ]
  },
  {
   "cell_type": "code",
   "execution_count": null,
   "metadata": {
    "collapsed": true
   },
   "outputs": [],
   "source": []
  }
 ],
 "metadata": {
  "kernelspec": {
   "display_name": "Python 3",
   "language": "python",
   "name": "python3"
  },
  "language_info": {
   "codemirror_mode": {
    "name": "ipython",
    "version": 3
   },
   "file_extension": ".py",
   "mimetype": "text/x-python",
   "name": "python",
   "nbconvert_exporter": "python",
   "pygments_lexer": "ipython3",
   "version": "3.5.2"
  }
 },
 "nbformat": 4,
 "nbformat_minor": 1
}
